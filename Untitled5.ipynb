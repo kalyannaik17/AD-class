{
  "cells": [
    {
      "cell_type": "markdown",
      "metadata": {
        "id": "view-in-github",
        "colab_type": "text"
      },
      "source": [
        "<a href=\"https://colab.research.google.com/github/kalyannaik17/AD-class/blob/main/Untitled5.ipynb\" target=\"_parent\"><img src=\"https://colab.research.google.com/assets/colab-badge.svg\" alt=\"Open In Colab\"/></a>"
      ]
    },
    {
      "cell_type": "code",
      "execution_count": null,
      "metadata": {
        "colab": {
          "base_uri": "https://localhost:8080/",
          "height": 35
        },
        "id": "jcisI5tFde2B",
        "outputId": "008075c8-d772-45ab-a283-975b09836b77"
      },
      "outputs": [
        {
          "data": {
            "application/vnd.google.colaboratory.intrinsic+json": {
              "type": "string"
            },
            "text/plain": [
              "'if condition1:\\n  task1 block of code\\nelif condition2:\\n  task2 block of code\\nelif condition3:\\n  task3 block of code\\nelse:\\n  task4 block of code'"
            ]
          },
          "execution_count": 2,
          "metadata": {},
          "output_type": "execute_result"
        }
      ],
      "source": [
        "'''if condition1:\n",
        "  task1 block of code\n",
        "elif condition2:\n",
        "  task2 block of code\n",
        "elif condition3:\n",
        "  task3 block of code\n",
        "else:\n",
        "  task4 block of code'''"
      ]
    },
    {
      "cell_type": "code",
      "execution_count": null,
      "metadata": {
        "colab": {
          "base_uri": "https://localhost:8080/"
        },
        "id": "TumzLCeXd3za",
        "outputId": "4becd558-b06d-48a2-859e-32ed683880ec"
      },
      "outputs": [
        {
          "name": "stdout",
          "output_type": "stream",
          "text": [
            "7\n",
            "odd\n"
          ]
        }
      ],
      "source": [
        "x=int(input())\n",
        "if x%2==0:\n",
        "  print('even')\n",
        "else:\n",
        "  print('odd')\n"
      ]
    },
    {
      "cell_type": "code",
      "execution_count": null,
      "metadata": {
        "colab": {
          "base_uri": "https://localhost:8080/"
        },
        "id": "ofD9GuVieJ4l",
        "outputId": "a7cd55a5-7df7-4d4f-a810-518886f96910"
      },
      "outputs": [
        {
          "data": {
            "text/plain": [
              "False"
            ]
          },
          "execution_count": 7,
          "metadata": {},
          "output_type": "execute_result"
        }
      ],
      "source": [
        "x%2==0"
      ]
    },
    {
      "cell_type": "code",
      "execution_count": null,
      "metadata": {
        "id": "mvIa2ovbepZe"
      },
      "outputs": [],
      "source": [
        "#Write a program is number is positive or negative"
      ]
    },
    {
      "cell_type": "code",
      "execution_count": null,
      "metadata": {
        "colab": {
          "base_uri": "https://localhost:8080/"
        },
        "id": "NT4PgaY9e2iJ",
        "outputId": "e60132f7-b423-459e-c2ff-1e6c244b2c60"
      },
      "outputs": [
        {
          "name": "stdout",
          "output_type": "stream",
          "text": [
            "5\n",
            "positive\n"
          ]
        }
      ],
      "source": [
        "x=int(input())\n",
        "if x>0:\n",
        "  print('positive')\n",
        "elif x<0:\n",
        "  print('negative')\n",
        "else:\n",
        "  print('zero')"
      ]
    },
    {
      "cell_type": "code",
      "execution_count": null,
      "metadata": {
        "colab": {
          "base_uri": "https://localhost:8080/"
        },
        "id": "lPmAUslpe60f",
        "outputId": "54397a86-4fc3-4900-d206-141819fe203b"
      },
      "outputs": [
        {
          "name": "stdout",
          "output_type": "stream",
          "text": [
            "3\n",
            "M\n"
          ]
        }
      ],
      "source": [
        "y=int(input())\n",
        "if y+6>5:\n",
        "  print('M')\n",
        "elif y>4:\n",
        "  print('K')\n",
        "else:\n",
        "  print('O')"
      ]
    },
    {
      "cell_type": "code",
      "execution_count": 28,
      "metadata": {
        "colab": {
          "base_uri": "https://localhost:8080/"
        },
        "id": "1tuoQ7VGgjWU",
        "outputId": "3cdbb019-b1a4-4fed-9c56-e26da098ac80"
      },
      "outputs": [
        {
          "output_type": "stream",
          "name": "stdout",
          "text": [
            "6\n",
            "M\n"
          ]
        }
      ],
      "source": [
        "y=int(input())\n",
        "if y>5:\n",
        "  print('M')\n",
        "elif y>4:\n",
        "  print('K')\n",
        "elif y>7:\n",
        "  print('L')\n",
        "else:\n",
        "  print('O')"
      ]
    },
    {
      "cell_type": "code",
      "execution_count": 30,
      "metadata": {
        "id": "sSvV84wwhDtB",
        "colab": {
          "base_uri": "https://localhost:8080/",
          "height": 35
        },
        "outputId": "aae4034d-57b8-4d2d-c19d-aba785579663"
      },
      "outputs": [
        {
          "output_type": "execute_result",
          "data": {
            "text/plain": [
              "'HYDERABAD'"
            ],
            "application/vnd.google.colaboratory.intrinsic+json": {
              "type": "string"
            }
          },
          "metadata": {},
          "execution_count": 30
        }
      ],
      "source": [
        "t=\"hyderabad\"\n",
        "t.upper()"
      ]
    },
    {
      "cell_type": "code",
      "source": [
        "x=input()\n",
        "if x[0].lower() in {'t','s','m','h'}:\n",
        "  print('true')\n",
        "else:\n",
        "  print('false')\n"
      ],
      "metadata": {
        "colab": {
          "base_uri": "https://localhost:8080/"
        },
        "id": "wxY-k-_wkGU2",
        "outputId": "292a725f-eafe-484e-ede0-1928f21b3d4c"
      },
      "execution_count": 55,
      "outputs": [
        {
          "output_type": "stream",
          "name": "stdout",
          "text": [
            "Suresh\n",
            "true\n"
          ]
        }
      ]
    },
    {
      "cell_type": "code",
      "source": [
        "x=input()\n",
        "if x[-1].lower() in {'t','s','m','h'}:\n",
        "  print('true')\n",
        "else:\n",
        "  print('false')\n"
      ],
      "metadata": {
        "colab": {
          "base_uri": "https://localhost:8080/"
        },
        "id": "rzFT964DlJhc",
        "outputId": "892c61cc-7a8a-47df-e19e-e3e1f87bce3c"
      },
      "execution_count": 57,
      "outputs": [
        {
          "output_type": "stream",
          "name": "stdout",
          "text": [
            "hgjgs\n",
            "true\n"
          ]
        }
      ]
    },
    {
      "cell_type": "code",
      "source": [],
      "metadata": {
        "id": "Y9G0NC36qQdv"
      },
      "execution_count": null,
      "outputs": []
    }
  ],
  "metadata": {
    "colab": {
      "provenance": [],
      "authorship_tag": "ABX9TyNplDbu6tzVZyJBr7Wni3lu",
      "include_colab_link": true
    },
    "kernelspec": {
      "display_name": "Python 3",
      "name": "python3"
    },
    "language_info": {
      "name": "python"
    }
  },
  "nbformat": 4,
  "nbformat_minor": 0
}