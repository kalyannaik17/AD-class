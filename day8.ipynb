{
  "nbformat": 4,
  "nbformat_minor": 0,
  "metadata": {
    "colab": {
      "provenance": [],
      "authorship_tag": "ABX9TyNwrdKfyVWroBL5ajpuXs7g",
      "include_colab_link": true
    },
    "kernelspec": {
      "name": "python3",
      "display_name": "Python 3"
    },
    "language_info": {
      "name": "python"
    }
  },
  "cells": [
    {
      "cell_type": "markdown",
      "metadata": {
        "id": "view-in-github",
        "colab_type": "text"
      },
      "source": [
        "<a href=\"https://colab.research.google.com/github/kalyannaik17/AD-class/blob/main/day8.ipynb\" target=\"_parent\"><img src=\"https://colab.research.google.com/assets/colab-badge.svg\" alt=\"Open In Colab\"/></a>"
      ]
    },
    {
      "cell_type": "code",
      "execution_count": 6,
      "metadata": {
        "id": "owIn8l6_fjW_"
      },
      "outputs": [],
      "source": [
        "def calArea(r):\n",
        "  a=3.14*r*r\n",
        "  return a"
      ]
    },
    {
      "cell_type": "code",
      "source": [
        "calArea(r=10)"
      ],
      "metadata": {
        "colab": {
          "base_uri": "https://localhost:8080/"
        },
        "id": "SROVqntWiac-",
        "outputId": "c4684669-6596-424e-df36-a71c300a7a56"
      },
      "execution_count": 11,
      "outputs": [
        {
          "output_type": "execute_result",
          "data": {
            "text/plain": [
              "314.0"
            ]
          },
          "metadata": {},
          "execution_count": 11
        }
      ]
    },
    {
      "cell_type": "code",
      "source": [
        "w=calArea(20)"
      ],
      "metadata": {
        "id": "ayehkroojJod"
      },
      "execution_count": 14,
      "outputs": []
    },
    {
      "cell_type": "code",
      "source": [
        "w"
      ],
      "metadata": {
        "colab": {
          "base_uri": "https://localhost:8080/"
        },
        "id": "hSifFqjvjmGx",
        "outputId": "80f037dd-7c26-4961-bbb6-3fd1876d7266"
      },
      "execution_count": 15,
      "outputs": [
        {
          "output_type": "execute_result",
          "data": {
            "text/plain": [
              "1256.0"
            ]
          },
          "metadata": {},
          "execution_count": 15
        }
      ]
    },
    {
      "cell_type": "code",
      "source": [
        "type(w)"
      ],
      "metadata": {
        "colab": {
          "base_uri": "https://localhost:8080/"
        },
        "id": "6VvzLsYcjz4V",
        "outputId": "dcce9fcb-0754-4751-fbde-cbe72da9e72f"
      },
      "execution_count": 16,
      "outputs": [
        {
          "output_type": "execute_result",
          "data": {
            "text/plain": [
              "float"
            ]
          },
          "metadata": {},
          "execution_count": 16
        }
      ]
    },
    {
      "cell_type": "code",
      "source": [
        "w+6"
      ],
      "metadata": {
        "colab": {
          "base_uri": "https://localhost:8080/"
        },
        "id": "3LSuWxiqj1oG",
        "outputId": "e39bafe7-25c2-4b49-8f1b-78357477cefc"
      },
      "execution_count": 17,
      "outputs": [
        {
          "output_type": "execute_result",
          "data": {
            "text/plain": [
              "1262.0"
            ]
          },
          "metadata": {},
          "execution_count": 17
        }
      ]
    },
    {
      "cell_type": "code",
      "source": [
        "'''def functionname(parameter):\n",
        "  block of Code\n",
        "  return Output'''"
      ],
      "metadata": {
        "colab": {
          "base_uri": "https://localhost:8080/",
          "height": 35
        },
        "id": "m7tGVc6dk-rA",
        "outputId": "70dd5b8a-4a8d-41e0-dc4c-ab0ff1f9ebd1"
      },
      "execution_count": 18,
      "outputs": [
        {
          "output_type": "execute_result",
          "data": {
            "text/plain": [
              "'def functionname(parameter):\\n  block of Code\\n  return Output'"
            ],
            "application/vnd.google.colaboratory.intrinsic+json": {
              "type": "string"
            }
          },
          "metadata": {},
          "execution_count": 18
        }
      ]
    },
    {
      "cell_type": "code",
      "source": [
        "def calculateArea(l,b,):\n",
        "  area=l*b\n",
        "  return area"
      ],
      "metadata": {
        "id": "cAAtNvcQl2yi"
      },
      "execution_count": 22,
      "outputs": []
    },
    {
      "cell_type": "code",
      "source": [
        "calculateArea(2,6)"
      ],
      "metadata": {
        "colab": {
          "base_uri": "https://localhost:8080/"
        },
        "id": "boKohdCNmVb7",
        "outputId": "b57cf566-64b9-456d-9c86-a21034a43933"
      },
      "execution_count": 23,
      "outputs": [
        {
          "output_type": "execute_result",
          "data": {
            "text/plain": [
              "12"
            ]
          },
          "metadata": {},
          "execution_count": 23
        }
      ]
    },
    {
      "cell_type": "code",
      "source": [
        "def area(l,b,r):\n",
        "  aoc=3.14*r*r\n",
        "  aor=l*b\n",
        "  return {'Area of circle':aoc, 'Area of Rectangle':aor}"
      ],
      "metadata": {
        "id": "ny9kxc5qmYJ0"
      },
      "execution_count": 34,
      "outputs": []
    },
    {
      "cell_type": "code",
      "source": [
        "\n",
        "area(2,3,4)"
      ],
      "metadata": {
        "colab": {
          "base_uri": "https://localhost:8080/"
        },
        "id": "J84eToIIn4iy",
        "outputId": "2deb30ed-2f3c-4eb3-97af-689b054668ee"
      },
      "execution_count": 35,
      "outputs": [
        {
          "output_type": "execute_result",
          "data": {
            "text/plain": [
              "{'Area of circle': 50.24, 'Area of Rectangle': 6}"
            ]
          },
          "metadata": {},
          "execution_count": 35
        }
      ]
    },
    {
      "cell_type": "code",
      "source": [
        "t='HyderabAAd'\n",
        "t"
      ],
      "metadata": {
        "colab": {
          "base_uri": "https://localhost:8080/",
          "height": 35
        },
        "id": "DHpdH3Lin7D3",
        "outputId": "cc72e18c-2ddd-48a7-a920-5687b723596a"
      },
      "execution_count": 36,
      "outputs": [
        {
          "output_type": "execute_result",
          "data": {
            "text/plain": [
              "'HyderabAAd'"
            ],
            "application/vnd.google.colaboratory.intrinsic+json": {
              "type": "string"
            }
          },
          "metadata": {},
          "execution_count": 36
        }
      ]
    },
    {
      "cell_type": "code",
      "source": [
        "def count(x):\n",
        "  d=x.lower()\n",
        "  return d.count('a')"
      ],
      "metadata": {
        "id": "VvXGx0u0qEwB"
      },
      "execution_count": 60,
      "outputs": []
    },
    {
      "cell_type": "code",
      "source": [
        "def length(x):\n",
        "  a=len(x)\n",
        "  return a"
      ],
      "metadata": {
        "id": "fIhtS8OuqWSa"
      },
      "execution_count": 51,
      "outputs": []
    },
    {
      "cell_type": "code",
      "source": [
        "length(\"hydearabad 5000008 telengana\")\n"
      ],
      "metadata": {
        "colab": {
          "base_uri": "https://localhost:8080/"
        },
        "id": "jUFGqBWRqeD2",
        "outputId": "03086dc3-1c9b-42f6-c646-40043fb1c007"
      },
      "execution_count": 53,
      "outputs": [
        {
          "output_type": "execute_result",
          "data": {
            "text/plain": [
              "28"
            ]
          },
          "metadata": {},
          "execution_count": 53
        }
      ]
    },
    {
      "cell_type": "code",
      "source": [
        "def count(x):\n",
        "  d=x.lower()\n",
        "  return d.count('a')"
      ],
      "metadata": {
        "id": "ZACOeyb6rbZp"
      },
      "execution_count": 58,
      "outputs": []
    },
    {
      "cell_type": "code",
      "source": [
        "count('hyderabAAd')"
      ],
      "metadata": {
        "colab": {
          "base_uri": "https://localhost:8080/"
        },
        "id": "PBItqb9srzXt",
        "outputId": "a28b4082-9b15-4dd2-9361-27c0b8e58f42"
      },
      "execution_count": 59,
      "outputs": [
        {
          "output_type": "execute_result",
          "data": {
            "text/plain": [
              "3"
            ]
          },
          "metadata": {},
          "execution_count": 59
        }
      ]
    },
    {
      "cell_type": "code",
      "source": [
        "def count_num_alpha(x):\n",
        "  c=0\n",
        "  d=0\n",
        "  for i in x:\n",
        "    if i.isalpha():\n",
        "      c+=1\n",
        "    elif i.isnumeric():\n",
        "      d+=1\n",
        "  return {'number of alphbes':c,'number of digits':d}"
      ],
      "metadata": {
        "id": "32_dguuRr23h"
      },
      "execution_count": 67,
      "outputs": []
    },
    {
      "cell_type": "code",
      "source": [
        "t='hyderabAAd 5000008 telengana'\n",
        "t"
      ],
      "metadata": {
        "colab": {
          "base_uri": "https://localhost:8080/",
          "height": 35
        },
        "id": "nwT7YWc-tBvD",
        "outputId": "23f9c9ba-8dd0-4ba8-c599-c88a997a6df6"
      },
      "execution_count": 68,
      "outputs": [
        {
          "output_type": "execute_result",
          "data": {
            "text/plain": [
              "'hyderabAAd 5000008 telengana'"
            ],
            "application/vnd.google.colaboratory.intrinsic+json": {
              "type": "string"
            }
          },
          "metadata": {},
          "execution_count": 68
        }
      ]
    },
    {
      "cell_type": "code",
      "source": [
        "count_num_alpha(t)"
      ],
      "metadata": {
        "colab": {
          "base_uri": "https://localhost:8080/"
        },
        "id": "sumUPCy1tU5Z",
        "outputId": "a5f9ca7b-870d-44c8-8f14-65ec5a562c0c"
      },
      "execution_count": 69,
      "outputs": [
        {
          "output_type": "execute_result",
          "data": {
            "text/plain": [
              "{'number of alphbes': 19, 'number of digits': 7}"
            ]
          },
          "metadata": {},
          "execution_count": 69
        }
      ]
    },
    {
      "cell_type": "code",
      "source": [
        "def separater(x):\n",
        "  j=[]\n",
        "  k=[]\n",
        "  for i in x:\n",
        "    if i%z==0:\n",
        "      j.append(i)\n",
        "    else:\n",
        "      k.append(i)\n",
        "  return j,k"
      ],
      "metadata": {
        "id": "z4xHiImUtkf-"
      },
      "execution_count": 72,
      "outputs": []
    },
    {
      "cell_type": "code",
      "source": [
        "num=[1,2,3,4,5,6,7,8,9,10]"
      ],
      "metadata": {
        "id": "5LPE45GGvGeY"
      },
      "execution_count": 73,
      "outputs": []
    },
    {
      "cell_type": "code",
      "source": [
        "a.seprater(num)"
      ],
      "metadata": {
        "colab": {
          "base_uri": "https://localhost:8080/",
          "height": 141
        },
        "id": "DOFBFwguvLGX",
        "outputId": "20361746-8250-428b-fb06-a24f391745ca"
      },
      "execution_count": 74,
      "outputs": [
        {
          "output_type": "error",
          "ename": "NameError",
          "evalue": "name 'a' is not defined",
          "traceback": [
            "\u001b[0;31m---------------------------------------------------------------------------\u001b[0m",
            "\u001b[0;31mNameError\u001b[0m                                 Traceback (most recent call last)",
            "\u001b[0;32m<ipython-input-74-dcc1c5ec45bd>\u001b[0m in \u001b[0;36m<cell line: 1>\u001b[0;34m()\u001b[0m\n\u001b[0;32m----> 1\u001b[0;31m \u001b[0ma\u001b[0m\u001b[0;34m.\u001b[0m\u001b[0mseprater\u001b[0m\u001b[0;34m(\u001b[0m\u001b[0mnum\u001b[0m\u001b[0;34m)\u001b[0m\u001b[0;34m\u001b[0m\u001b[0;34m\u001b[0m\u001b[0m\n\u001b[0m",
            "\u001b[0;31mNameError\u001b[0m: name 'a' is not defined"
          ]
        }
      ]
    },
    {
      "cell_type": "code",
      "source": [],
      "metadata": {
        "id": "pVJQQG7VvV0r"
      },
      "execution_count": null,
      "outputs": []
    }
  ]
}