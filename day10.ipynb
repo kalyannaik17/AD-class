{
  "nbformat": 4,
  "nbformat_minor": 0,
  "metadata": {
    "colab": {
      "provenance": [],
      "authorship_tag": "ABX9TyN9ffzafnQjuclGjCKRt1Zz",
      "include_colab_link": true
    },
    "kernelspec": {
      "name": "python3",
      "display_name": "Python 3"
    },
    "language_info": {
      "name": "python"
    }
  },
  "cells": [
    {
      "cell_type": "markdown",
      "metadata": {
        "id": "view-in-github",
        "colab_type": "text"
      },
      "source": [
        "<a href=\"https://colab.research.google.com/github/kalyannaik17/AD-class/blob/main/day10.ipynb\" target=\"_parent\"><img src=\"https://colab.research.google.com/assets/colab-badge.svg\" alt=\"Open In Colab\"/></a>"
      ]
    },
    {
      "cell_type": "code",
      "execution_count": 4,
      "metadata": {
        "id": "_Hhy3e3nZ2w5"
      },
      "outputs": [],
      "source": [
        "import pandas as pd\n",
        "import numpy as np"
      ]
    },
    {
      "cell_type": "code",
      "source": [
        "a=np.random.randint(20,60,15)"
      ],
      "metadata": {
        "id": "pXycPmnUZ8Hh"
      },
      "execution_count": 7,
      "outputs": []
    },
    {
      "cell_type": "code",
      "source": [
        "a"
      ],
      "metadata": {
        "colab": {
          "base_uri": "https://localhost:8080/"
        },
        "id": "9QbkbITNaDPY",
        "outputId": "3857c0a2-bafb-4acf-ab61-8f4549eb758b"
      },
      "execution_count": 8,
      "outputs": [
        {
          "output_type": "execute_result",
          "data": {
            "text/plain": [
              "array([31, 44, 39, 37, 49, 39, 50, 20, 29, 46, 31, 38, 37, 27, 34])"
            ]
          },
          "metadata": {},
          "execution_count": 8
        }
      ]
    },
    {
      "cell_type": "code",
      "source": [
        "a.ndim"
      ],
      "metadata": {
        "colab": {
          "base_uri": "https://localhost:8080/"
        },
        "id": "_27Cnd0Yac4v",
        "outputId": "15272b50-91d1-45a2-cce4-1c9b2f9842c7"
      },
      "execution_count": 9,
      "outputs": [
        {
          "output_type": "execute_result",
          "data": {
            "text/plain": [
              "1"
            ]
          },
          "metadata": {},
          "execution_count": 9
        }
      ]
    },
    {
      "cell_type": "code",
      "source": [
        "a[12]"
      ],
      "metadata": {
        "colab": {
          "base_uri": "https://localhost:8080/"
        },
        "id": "FkJNAFqSanbd",
        "outputId": "4a34d56f-8e29-4037-a1f4-ed2b44a67d10"
      },
      "execution_count": 10,
      "outputs": [
        {
          "output_type": "execute_result",
          "data": {
            "text/plain": [
              "37"
            ]
          },
          "metadata": {},
          "execution_count": 10
        }
      ]
    },
    {
      "cell_type": "code",
      "source": [
        "a[-2:-10:-1]"
      ],
      "metadata": {
        "colab": {
          "base_uri": "https://localhost:8080/"
        },
        "id": "vW2EhFIJa49S",
        "outputId": "83431f82-6bc4-46a0-9378-350582a6e5b4"
      },
      "execution_count": 16,
      "outputs": [
        {
          "output_type": "execute_result",
          "data": {
            "text/plain": [
              "array([34, 27, 37, 38, 31, 46, 29, 20, 50])"
            ]
          },
          "metadata": {},
          "execution_count": 16
        }
      ]
    },
    {
      "cell_type": "code",
      "source": [
        "np.random.seed(94)\n",
        "b=np.random.randint(45,78,(7,8))\n",
        "b"
      ],
      "metadata": {
        "colab": {
          "base_uri": "https://localhost:8080/"
        },
        "id": "BiOAzBUubQJ2",
        "outputId": "0f928284-0f1e-4c24-b105-7dd8225f54a3"
      },
      "execution_count": 17,
      "outputs": [
        {
          "output_type": "execute_result",
          "data": {
            "text/plain": [
              "array([[63, 45, 48, 67, 74, 64, 61, 53],\n",
              "       [61, 59, 55, 77, 69, 69, 48, 60],\n",
              "       [71, 56, 51, 58, 59, 47, 68, 77],\n",
              "       [46, 45, 52, 74, 65, 53, 60, 55],\n",
              "       [64, 72, 46, 69, 65, 75, 75, 51],\n",
              "       [75, 67, 53, 77, 60, 67, 67, 47],\n",
              "       [75, 54, 74, 69, 54, 64, 52, 61]])"
            ]
          },
          "metadata": {},
          "execution_count": 17
        }
      ]
    },
    {
      "cell_type": "code",
      "source": [
        "b[2] # 2 row"
      ],
      "metadata": {
        "colab": {
          "base_uri": "https://localhost:8080/"
        },
        "id": "jG_aLsSVb9c6",
        "outputId": "77473a48-bc98-4934-930a-ac6e9accfb8a"
      },
      "execution_count": 22,
      "outputs": [
        {
          "output_type": "execute_result",
          "data": {
            "text/plain": [
              "array([71, 56, 51, 58, 59, 47, 68, 77])"
            ]
          },
          "metadata": {},
          "execution_count": 22
        }
      ]
    },
    {
      "cell_type": "code",
      "source": [
        "b[:,7] #for 7 col"
      ],
      "metadata": {
        "colab": {
          "base_uri": "https://localhost:8080/"
        },
        "id": "rUbslw-ucBFk",
        "outputId": "4f4f0289-bc9c-4ca0-a0df-6a8896a3d7b5"
      },
      "execution_count": 23,
      "outputs": [
        {
          "output_type": "execute_result",
          "data": {
            "text/plain": [
              "array([53, 60, 77, 55, 51, 47, 61])"
            ]
          },
          "metadata": {},
          "execution_count": 23
        }
      ]
    },
    {
      "cell_type": "code",
      "source": [
        "b[3,1] #3 row 1 col"
      ],
      "metadata": {
        "colab": {
          "base_uri": "https://localhost:8080/"
        },
        "id": "E4NKTDBpdI4h",
        "outputId": "a07b3d5a-885f-4806-e35d-828191a5337e"
      },
      "execution_count": 25,
      "outputs": [
        {
          "output_type": "execute_result",
          "data": {
            "text/plain": [
              "45"
            ]
          },
          "metadata": {},
          "execution_count": 25
        }
      ]
    },
    {
      "cell_type": "code",
      "source": [
        "b[5,6] #5th row 6th col"
      ],
      "metadata": {
        "colab": {
          "base_uri": "https://localhost:8080/"
        },
        "id": "6ZtEfAyUdhOY",
        "outputId": "22c16ded-0729-4ca6-ad94-e17b24cf7d50"
      },
      "execution_count": 26,
      "outputs": [
        {
          "output_type": "execute_result",
          "data": {
            "text/plain": [
              "67"
            ]
          },
          "metadata": {},
          "execution_count": 26
        }
      ]
    },
    {
      "cell_type": "code",
      "source": [
        "b[1:5]"
      ],
      "metadata": {
        "colab": {
          "base_uri": "https://localhost:8080/"
        },
        "id": "E4E3ODuGd1fi",
        "outputId": "6d0cd339-b053-4b20-d8c5-fe14ec737db5"
      },
      "execution_count": 30,
      "outputs": [
        {
          "output_type": "execute_result",
          "data": {
            "text/plain": [
              "array([[61, 59, 55, 77, 69, 69, 48, 60],\n",
              "       [71, 56, 51, 58, 59, 47, 68, 77],\n",
              "       [46, 45, 52, 74, 65, 53, 60, 55],\n",
              "       [64, 72, 46, 69, 65, 75, 75, 51]])"
            ]
          },
          "metadata": {},
          "execution_count": 30
        }
      ]
    },
    {
      "cell_type": "code",
      "source": [
        "b[1:5,1:5]"
      ],
      "metadata": {
        "colab": {
          "base_uri": "https://localhost:8080/"
        },
        "id": "LslFs834eLQw",
        "outputId": "40b95d2c-e409-4d0a-a303-1146b1ec5175"
      },
      "execution_count": 32,
      "outputs": [
        {
          "output_type": "execute_result",
          "data": {
            "text/plain": [
              "array([[59, 55, 77, 69],\n",
              "       [56, 51, 58, 59],\n",
              "       [45, 52, 74, 65],\n",
              "       [72, 46, 69, 65]])"
            ]
          },
          "metadata": {},
          "execution_count": 32
        }
      ]
    },
    {
      "cell_type": "code",
      "source": [
        "#array[row_start : row_end : row_step , col_start : col_end : col_step]"
      ],
      "metadata": {
        "id": "Gcf1nQfde6u8"
      },
      "execution_count": 34,
      "outputs": []
    },
    {
      "cell_type": "code",
      "source": [
        "b[3:7,2:7]"
      ],
      "metadata": {
        "colab": {
          "base_uri": "https://localhost:8080/"
        },
        "id": "tXYaGlfkf_Ql",
        "outputId": "c59ade63-8439-49a0-ed9d-5a341e616779"
      },
      "execution_count": 35,
      "outputs": [
        {
          "output_type": "execute_result",
          "data": {
            "text/plain": [
              "array([[52, 74, 65, 53, 60],\n",
              "       [46, 69, 65, 75, 75],\n",
              "       [53, 77, 60, 67, 67],\n",
              "       [74, 69, 54, 64, 52]])"
            ]
          },
          "metadata": {},
          "execution_count": 35
        }
      ]
    },
    {
      "cell_type": "code",
      "source": [
        "b"
      ],
      "metadata": {
        "colab": {
          "base_uri": "https://localhost:8080/"
        },
        "id": "IsBLKuuFg04N",
        "outputId": "3f51c4b5-e373-43a6-bba9-92de574b6fab"
      },
      "execution_count": 36,
      "outputs": [
        {
          "output_type": "execute_result",
          "data": {
            "text/plain": [
              "array([[63, 45, 48, 67, 74, 64, 61, 53],\n",
              "       [61, 59, 55, 77, 69, 69, 48, 60],\n",
              "       [71, 56, 51, 58, 59, 47, 68, 77],\n",
              "       [46, 45, 52, 74, 65, 53, 60, 55],\n",
              "       [64, 72, 46, 69, 65, 75, 75, 51],\n",
              "       [75, 67, 53, 77, 60, 67, 67, 47],\n",
              "       [75, 54, 74, 69, 54, 64, 52, 61]])"
            ]
          },
          "metadata": {},
          "execution_count": 36
        }
      ]
    },
    {
      "cell_type": "code",
      "source": [
        "b[1:7,1:7]"
      ],
      "metadata": {
        "colab": {
          "base_uri": "https://localhost:8080/"
        },
        "id": "hBzMdfcIhoRe",
        "outputId": "aeaacc85-9f8f-4b45-f25c-c08de0d6742a"
      },
      "execution_count": 41,
      "outputs": [
        {
          "output_type": "execute_result",
          "data": {
            "text/plain": [
              "array([[59, 55, 77, 69, 69, 48],\n",
              "       [56, 51, 58, 59, 47, 68],\n",
              "       [45, 52, 74, 65, 53, 60],\n",
              "       [72, 46, 69, 65, 75, 75],\n",
              "       [67, 53, 77, 60, 67, 67],\n",
              "       [54, 74, 69, 54, 64, 52]])"
            ]
          },
          "metadata": {},
          "execution_count": 41
        }
      ]
    },
    {
      "cell_type": "code",
      "source": [
        "np.random.seed(94)\n",
        "c=np.random.randint(45,78,(7,8))\n",
        "c"
      ],
      "metadata": {
        "colab": {
          "base_uri": "https://localhost:8080/"
        },
        "id": "tL2EU84khzFR",
        "outputId": "f68be8ff-acdf-4081-b80c-d919c39f54e3"
      },
      "execution_count": 39,
      "outputs": [
        {
          "output_type": "execute_result",
          "data": {
            "text/plain": [
              "array([[63, 45, 48, 67, 74, 64, 61, 53],\n",
              "       [61, 59, 55, 77, 69, 69, 48, 60],\n",
              "       [71, 56, 51, 58, 59, 47, 68, 77],\n",
              "       [46, 45, 52, 74, 65, 53, 60, 55],\n",
              "       [64, 72, 46, 69, 65, 75, 75, 51],\n",
              "       [75, 67, 53, 77, 60, 67, 67, 47],\n",
              "       [75, 54, 74, 69, 54, 64, 52, 61]])"
            ]
          },
          "metadata": {},
          "execution_count": 39
        }
      ]
    },
    {
      "cell_type": "code",
      "source": [
        "c[1:7,1:7]"
      ],
      "metadata": {
        "colab": {
          "base_uri": "https://localhost:8080/"
        },
        "id": "hP0e2AygiCeP",
        "outputId": "9c0e2f7c-12d5-4b9f-ab68-64aff38259e4"
      },
      "execution_count": 42,
      "outputs": [
        {
          "output_type": "execute_result",
          "data": {
            "text/plain": [
              "array([[59, 55, 77, 69, 69, 48],\n",
              "       [56, 51, 58, 59, 47, 68],\n",
              "       [45, 52, 74, 65, 53, 60],\n",
              "       [72, 46, 69, 65, 75, 75],\n",
              "       [67, 53, 77, 60, 67, 67],\n",
              "       [54, 74, 69, 54, 64, 52]])"
            ]
          },
          "metadata": {},
          "execution_count": 42
        }
      ]
    },
    {
      "cell_type": "code",
      "source": [
        "b"
      ],
      "metadata": {
        "colab": {
          "base_uri": "https://localhost:8080/"
        },
        "id": "AF8eeNb_iTB2",
        "outputId": "c94a42f4-35df-4884-8963-352141aaa74e"
      },
      "execution_count": 43,
      "outputs": [
        {
          "output_type": "execute_result",
          "data": {
            "text/plain": [
              "array([[63, 45, 48, 67, 74, 64, 61, 53],\n",
              "       [61, 59, 55, 77, 69, 69, 48, 60],\n",
              "       [71, 56, 51, 58, 59, 47, 68, 77],\n",
              "       [46, 45, 52, 74, 65, 53, 60, 55],\n",
              "       [64, 72, 46, 69, 65, 75, 75, 51],\n",
              "       [75, 67, 53, 77, 60, 67, 67, 47],\n",
              "       [75, 54, 74, 69, 54, 64, 52, 61]])"
            ]
          },
          "metadata": {},
          "execution_count": 43
        }
      ]
    },
    {
      "cell_type": "code",
      "source": [
        "b[-6:,-7:-1]"
      ],
      "metadata": {
        "colab": {
          "base_uri": "https://localhost:8080/"
        },
        "id": "WMFSMCPXieAh",
        "outputId": "10c66535-759e-4ede-e20e-154d7b61c2c0"
      },
      "execution_count": 55,
      "outputs": [
        {
          "output_type": "execute_result",
          "data": {
            "text/plain": [
              "array([[59, 55, 77, 69, 69, 48],\n",
              "       [56, 51, 58, 59, 47, 68],\n",
              "       [45, 52, 74, 65, 53, 60],\n",
              "       [72, 46, 69, 65, 75, 75],\n",
              "       [67, 53, 77, 60, 67, 67],\n",
              "       [54, 74, 69, 54, 64, 52]])"
            ]
          },
          "metadata": {},
          "execution_count": 55
        }
      ]
    },
    {
      "cell_type": "code",
      "source": [
        "b"
      ],
      "metadata": {
        "colab": {
          "base_uri": "https://localhost:8080/"
        },
        "id": "6Es_eHMDilUW",
        "outputId": "e093362f-0331-468e-9314-0130926f761a"
      },
      "execution_count": 56,
      "outputs": [
        {
          "output_type": "execute_result",
          "data": {
            "text/plain": [
              "array([[63, 45, 48, 67, 74, 64, 61, 53],\n",
              "       [61, 59, 55, 77, 69, 69, 48, 60],\n",
              "       [71, 56, 51, 58, 59, 47, 68, 77],\n",
              "       [46, 45, 52, 74, 65, 53, 60, 55],\n",
              "       [64, 72, 46, 69, 65, 75, 75, 51],\n",
              "       [75, 67, 53, 77, 60, 67, 67, 47],\n",
              "       [75, 54, 74, 69, 54, 64, 52, 61]])"
            ]
          },
          "metadata": {},
          "execution_count": 56
        }
      ]
    },
    {
      "cell_type": "code",
      "source": [
        "#array[row_start : row_end : row_step , col_start : col_end : col_step]"
      ],
      "metadata": {
        "id": "ahphYpsjjV34"
      },
      "execution_count": 57,
      "outputs": []
    },
    {
      "cell_type": "code",
      "source": [
        "b[2:7:3,1:8:2]"
      ],
      "metadata": {
        "colab": {
          "base_uri": "https://localhost:8080/"
        },
        "id": "h4GXv-FmjbYX",
        "outputId": "bff34aeb-760e-46c6-cdac-d91a4f32a85f"
      },
      "execution_count": 70,
      "outputs": [
        {
          "output_type": "execute_result",
          "data": {
            "text/plain": [
              "array([[56, 58, 47, 77],\n",
              "       [67, 77, 67, 47]])"
            ]
          },
          "metadata": {},
          "execution_count": 70
        }
      ]
    },
    {
      "cell_type": "code",
      "source": [
        "b[0:7:2,0:8:2]"
      ],
      "metadata": {
        "colab": {
          "base_uri": "https://localhost:8080/"
        },
        "id": "-xb9MhqfjjRQ",
        "outputId": "e62665df-ca1d-48a7-ca4f-00ede29b31e7"
      },
      "execution_count": 77,
      "outputs": [
        {
          "output_type": "execute_result",
          "data": {
            "text/plain": [
              "array([[63, 48, 74, 61],\n",
              "       [71, 51, 59, 68],\n",
              "       [64, 46, 65, 75],\n",
              "       [75, 74, 54, 52]])"
            ]
          },
          "metadata": {},
          "execution_count": 77
        }
      ]
    },
    {
      "cell_type": "code",
      "source": [
        "b[0:4,1:7]"
      ],
      "metadata": {
        "colab": {
          "base_uri": "https://localhost:8080/"
        },
        "id": "mNvw_lP0kfqm",
        "outputId": "3ed248ea-23ee-4814-be8b-2875c8f83cac"
      },
      "execution_count": 79,
      "outputs": [
        {
          "output_type": "execute_result",
          "data": {
            "text/plain": [
              "array([[45, 48, 67, 74, 64, 61],\n",
              "       [59, 55, 77, 69, 69, 48],\n",
              "       [56, 51, 58, 59, 47, 68],\n",
              "       [45, 52, 74, 65, 53, 60]])"
            ]
          },
          "metadata": {},
          "execution_count": 79
        }
      ]
    },
    {
      "cell_type": "code",
      "source": [
        "b"
      ],
      "metadata": {
        "colab": {
          "base_uri": "https://localhost:8080/"
        },
        "id": "gbSa_jDCk5I1",
        "outputId": "33eca28a-9317-48c4-db99-3e16aa795d60"
      },
      "execution_count": 81,
      "outputs": [
        {
          "output_type": "execute_result",
          "data": {
            "text/plain": [
              "array([[63, 45, 48, 67, 74, 64, 61, 53],\n",
              "       [61, 59, 55, 77, 69, 69, 48, 60],\n",
              "       [71, 56, 51, 58, 59, 47, 68, 77],\n",
              "       [46, 45, 52, 74, 65, 53, 60, 55],\n",
              "       [64, 72, 46, 69, 65, 75, 75, 51],\n",
              "       [75, 67, 53, 77, 60, 67, 67, 47],\n",
              "       [75, 54, 74, 69, 54, 64, 52, 61]])"
            ]
          },
          "metadata": {},
          "execution_count": 81
        }
      ]
    },
    {
      "cell_type": "code",
      "source": [],
      "metadata": {
        "id": "AO7xt8kzlZl3"
      },
      "execution_count": 83,
      "outputs": []
    },
    {
      "cell_type": "code",
      "source": [],
      "metadata": {
        "id": "RzjZYUt7lhBC"
      },
      "execution_count": null,
      "outputs": []
    }
  ]
}