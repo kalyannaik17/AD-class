{
  "nbformat": 4,
  "nbformat_minor": 0,
  "metadata": {
    "colab": {
      "provenance": [],
      "authorship_tag": "ABX9TyPTnEfMRubNybdvxFkyRkjF",
      "include_colab_link": true
    },
    "kernelspec": {
      "name": "python3",
      "display_name": "Python 3"
    },
    "language_info": {
      "name": "python"
    }
  },
  "cells": [
    {
      "cell_type": "markdown",
      "metadata": {
        "id": "view-in-github",
        "colab_type": "text"
      },
      "source": [
        "<a href=\"https://colab.research.google.com/github/kalyannaik17/AD-class/blob/main/day6.ipynb\" target=\"_parent\"><img src=\"https://colab.research.google.com/assets/colab-badge.svg\" alt=\"Open In Colab\"/></a>"
      ]
    },
    {
      "cell_type": "code",
      "execution_count": 2,
      "metadata": {
        "colab": {
          "base_uri": "https://localhost:8080/"
        },
        "id": "9E0KjK4gW5bU",
        "outputId": "03668e1a-5309-4da0-ad89-433cd2495fa4"
      },
      "outputs": [
        {
          "output_type": "execute_result",
          "data": {
            "text/plain": [
              "{101: 4, 102: 7, 'B': 2}"
            ]
          },
          "metadata": {},
          "execution_count": 2
        }
      ],
      "source": [
        "d={101:4,102: 7,'B':2}\n",
        "d"
      ]
    },
    {
      "cell_type": "code",
      "source": [
        "d[101]"
      ],
      "metadata": {
        "colab": {
          "base_uri": "https://localhost:8080/"
        },
        "id": "HFL1NNn6XLEK",
        "outputId": "c1655c06-8e24-4e9f-9474-01f06531695d"
      },
      "execution_count": 3,
      "outputs": [
        {
          "output_type": "execute_result",
          "data": {
            "text/plain": [
              "4"
            ]
          },
          "metadata": {},
          "execution_count": 3
        }
      ]
    },
    {
      "cell_type": "code",
      "source": [
        "d['B']"
      ],
      "metadata": {
        "colab": {
          "base_uri": "https://localhost:8080/"
        },
        "id": "eRmFgDz9XnD1",
        "outputId": "3c3f62f1-2894-4f2b-e733-322167a1f447"
      },
      "execution_count": 4,
      "outputs": [
        {
          "output_type": "execute_result",
          "data": {
            "text/plain": [
              "2"
            ]
          },
          "metadata": {},
          "execution_count": 4
        }
      ]
    },
    {
      "cell_type": "code",
      "source": [
        "d[101]=370\n",
        "d[101]"
      ],
      "metadata": {
        "colab": {
          "base_uri": "https://localhost:8080/"
        },
        "id": "0xrStkEUXpOY",
        "outputId": "4a198d28-3d90-4181-af70-20756e10c4fa"
      },
      "execution_count": 5,
      "outputs": [
        {
          "output_type": "execute_result",
          "data": {
            "text/plain": [
              "370"
            ]
          },
          "metadata": {},
          "execution_count": 5
        }
      ]
    },
    {
      "cell_type": "code",
      "source": [
        "d.update({102:846})\n",
        "d"
      ],
      "metadata": {
        "colab": {
          "base_uri": "https://localhost:8080/"
        },
        "id": "_5apBqbCXvaC",
        "outputId": "f7f7aa3d-b5ff-40e7-e76e-46301c941d9a"
      },
      "execution_count": 7,
      "outputs": [
        {
          "output_type": "execute_result",
          "data": {
            "text/plain": [
              "{101: 370, 102: 846, 'B': 2}"
            ]
          },
          "metadata": {},
          "execution_count": 7
        }
      ]
    },
    {
      "cell_type": "code",
      "source": [
        "d[105]=876\n",
        "d"
      ],
      "metadata": {
        "colab": {
          "base_uri": "https://localhost:8080/"
        },
        "id": "PmloronUX4FZ",
        "outputId": "2a273bdd-0fa8-46ba-c878-a57c8984188e"
      },
      "execution_count": 13,
      "outputs": [
        {
          "output_type": "execute_result",
          "data": {
            "text/plain": [
              "{101: 370, 102: 846, 'B': 2, 105: 876, 106: 'India'}"
            ]
          },
          "metadata": {},
          "execution_count": 13
        }
      ]
    },
    {
      "cell_type": "code",
      "source": [
        "d[106]='India'\n",
        "d"
      ],
      "metadata": {
        "colab": {
          "base_uri": "https://localhost:8080/"
        },
        "id": "EfCvQorVYFQ_",
        "outputId": "f658948e-bb0e-4253-b5ae-10e4b4138540"
      },
      "execution_count": 9,
      "outputs": [
        {
          "output_type": "execute_result",
          "data": {
            "text/plain": [
              "{101: 370, 102: 846, 'B': 2, 105: 354, 106: 'India'}"
            ]
          },
          "metadata": {},
          "execution_count": 9
        }
      ]
    },
    {
      "cell_type": "code",
      "source": [
        "d.get(105)"
      ],
      "metadata": {
        "colab": {
          "base_uri": "https://localhost:8080/"
        },
        "id": "0T_BcrOiZ5Sv",
        "outputId": "2e714c61-39bb-4703-8307-9cdb6aa3c224"
      },
      "execution_count": 16,
      "outputs": [
        {
          "output_type": "execute_result",
          "data": {
            "text/plain": [
              "876"
            ]
          },
          "metadata": {},
          "execution_count": 16
        }
      ]
    },
    {
      "cell_type": "code",
      "source": [
        "d[105]"
      ],
      "metadata": {
        "colab": {
          "base_uri": "https://localhost:8080/"
        },
        "id": "9XyyLu4_aNX8",
        "outputId": "592a4ae5-85df-474a-fca4-5c43d365707d"
      },
      "execution_count": 17,
      "outputs": [
        {
          "output_type": "execute_result",
          "data": {
            "text/plain": [
              "876"
            ]
          },
          "metadata": {},
          "execution_count": 17
        }
      ]
    },
    {
      "cell_type": "code",
      "source": [
        "d"
      ],
      "metadata": {
        "colab": {
          "base_uri": "https://localhost:8080/"
        },
        "id": "OmBW5I8LaO0s",
        "outputId": "18571e8b-aa77-40b4-b5d4-923871619a33"
      },
      "execution_count": 18,
      "outputs": [
        {
          "output_type": "execute_result",
          "data": {
            "text/plain": [
              "{101: 370, 102: 846, 'B': 2, 105: 876, 106: 'India'}"
            ]
          },
          "metadata": {},
          "execution_count": 18
        }
      ]
    },
    {
      "cell_type": "code",
      "source": [
        "del d[101]"
      ],
      "metadata": {
        "id": "AER5adHPa8Qy"
      },
      "execution_count": 19,
      "outputs": []
    },
    {
      "cell_type": "code",
      "source": [
        "d"
      ],
      "metadata": {
        "colab": {
          "base_uri": "https://localhost:8080/"
        },
        "id": "Cafk11PJbT-3",
        "outputId": "2b1afdf5-e334-4a82-ca5e-addda53e722d"
      },
      "execution_count": 20,
      "outputs": [
        {
          "output_type": "execute_result",
          "data": {
            "text/plain": [
              "{102: 846, 'B': 2, 105: 876, 106: 'India'}"
            ]
          },
          "metadata": {},
          "execution_count": 20
        }
      ]
    },
    {
      "cell_type": "code",
      "source": [
        "d[101]=268\n",
        "d"
      ],
      "metadata": {
        "colab": {
          "base_uri": "https://localhost:8080/"
        },
        "id": "kdqDf9FnbUdy",
        "outputId": "c0d011d6-d58f-4b5f-eac8-ed40af6b9ada"
      },
      "execution_count": 21,
      "outputs": [
        {
          "output_type": "execute_result",
          "data": {
            "text/plain": [
              "{102: 846, 'B': 2, 105: 876, 106: 'India', 101: 268}"
            ]
          },
          "metadata": {},
          "execution_count": 21
        }
      ]
    },
    {
      "cell_type": "code",
      "source": [
        "d[401]=[1000,65545,3553,5365]\n",
        "d"
      ],
      "metadata": {
        "colab": {
          "base_uri": "https://localhost:8080/"
        },
        "id": "kiUJaZ22cpxF",
        "outputId": "8278f0fa-7dab-47c2-9f60-89851067c7a1"
      },
      "execution_count": 23,
      "outputs": [
        {
          "output_type": "execute_result",
          "data": {
            "text/plain": [
              "{102: 846,\n",
              " 'B': 2,\n",
              " 105: 876,\n",
              " 106: 'India',\n",
              " 101: [1000, 65545, 3553, 5365],\n",
              " 401: [1000, 65545, 3553, 5365]}"
            ]
          },
          "metadata": {},
          "execution_count": 23
        }
      ]
    },
    {
      "cell_type": "code",
      "source": [
        "del d[401]"
      ],
      "metadata": {
        "id": "t06g24z4cxLc"
      },
      "execution_count": 24,
      "outputs": []
    },
    {
      "cell_type": "code",
      "source": [
        "d"
      ],
      "metadata": {
        "colab": {
          "base_uri": "https://localhost:8080/"
        },
        "id": "98_YPz-2dIDW",
        "outputId": "e5b0aa77-3495-431d-f323-37c73a35157c"
      },
      "execution_count": 25,
      "outputs": [
        {
          "output_type": "execute_result",
          "data": {
            "text/plain": [
              "{102: 846, 'B': 2, 105: 876, 106: 'India', 101: [1000, 65545, 3553, 5365]}"
            ]
          },
          "metadata": {},
          "execution_count": 25
        }
      ]
    },
    {
      "cell_type": "code",
      "source": [
        "type(d[101])"
      ],
      "metadata": {
        "colab": {
          "base_uri": "https://localhost:8080/"
        },
        "id": "uE4WZwVPdIkJ",
        "outputId": "3a3895ab-be43-408a-9b36-9a98fc99d9e1"
      },
      "execution_count": 26,
      "outputs": [
        {
          "output_type": "execute_result",
          "data": {
            "text/plain": [
              "list"
            ]
          },
          "metadata": {},
          "execution_count": 26
        }
      ]
    },
    {
      "cell_type": "code",
      "source": [
        "type(d[106])"
      ],
      "metadata": {
        "colab": {
          "base_uri": "https://localhost:8080/"
        },
        "id": "KdaEggERdOnQ",
        "outputId": "31a63e75-c391-48dc-befe-3d6434794c98"
      },
      "execution_count": 27,
      "outputs": [
        {
          "output_type": "execute_result",
          "data": {
            "text/plain": [
              "str"
            ]
          },
          "metadata": {},
          "execution_count": 27
        }
      ]
    },
    {
      "cell_type": "code",
      "source": [
        "type(d[102])"
      ],
      "metadata": {
        "colab": {
          "base_uri": "https://localhost:8080/"
        },
        "id": "7l8cUTLZdSF4",
        "outputId": "381ce858-9cf2-428d-f19a-55aef2a1cdd8"
      },
      "execution_count": 28,
      "outputs": [
        {
          "output_type": "execute_result",
          "data": {
            "text/plain": [
              "int"
            ]
          },
          "metadata": {},
          "execution_count": 28
        }
      ]
    },
    {
      "cell_type": "code",
      "source": [
        "d[101]={50:[7,5,4,9,6],'apple':(20,30,40,[90,180,270])}"
      ],
      "metadata": {
        "id": "cxF5T1nHdWFF"
      },
      "execution_count": 37,
      "outputs": []
    },
    {
      "cell_type": "code",
      "source": [
        "d"
      ],
      "metadata": {
        "colab": {
          "base_uri": "https://localhost:8080/"
        },
        "id": "J1aUp9Lgf8Nz",
        "outputId": "18e9cf94-d69f-4c12-8cd6-018cc5be85eb"
      },
      "execution_count": 34,
      "outputs": [
        {
          "output_type": "execute_result",
          "data": {
            "text/plain": [
              "{102: 846,\n",
              " 'B': 2,\n",
              " 105: {50: [7, 5, 4, 9, 6], 'apple': (20, 30, 40, [90, 180, 270])},\n",
              " 106: 'India',\n",
              " 101: {50: [7, 5, 4, 9, 6], 'apple': (20, 30, 40, [90, 180, 270])}}"
            ]
          },
          "metadata": {},
          "execution_count": 34
        }
      ]
    },
    {
      "cell_type": "code",
      "source": [
        "d[107] = {'a': (30, 50, 70), 'b': (1000, 5000, 7000, 9000), 'c': ['k', {'L': [11, 22], 'M': (77, 88)}]}"
      ],
      "metadata": {
        "id": "vv0JsFpIf8-v"
      },
      "execution_count": 45,
      "outputs": []
    },
    {
      "cell_type": "code",
      "source": [
        "d[105]['apple'][3][1]"
      ],
      "metadata": {
        "colab": {
          "base_uri": "https://localhost:8080/"
        },
        "id": "0GSoCuz9iYJY",
        "outputId": "dd26da85-1007-4a6d-cb2a-c2d90bd695d3"
      },
      "execution_count": 51,
      "outputs": [
        {
          "output_type": "execute_result",
          "data": {
            "text/plain": [
              "180"
            ]
          },
          "metadata": {},
          "execution_count": 51
        }
      ]
    },
    {
      "cell_type": "code",
      "source": [
        "d"
      ],
      "metadata": {
        "colab": {
          "base_uri": "https://localhost:8080/"
        },
        "id": "J3CPUNUjhe-G",
        "outputId": "7f9f7a22-2b68-42e9-96fa-23d3bbcd7edf"
      },
      "execution_count": 46,
      "outputs": [
        {
          "output_type": "execute_result",
          "data": {
            "text/plain": [
              "{102: 846,\n",
              " 'B': 2,\n",
              " 105: {50: [7, 5, 4, 9, 6], 'apple': (20, 30, 40, [90, 180, 270])},\n",
              " 106: 'India',\n",
              " 101: {50: [7, 5, 4, 9, 6], 'apple': (20, 30, 40, [90, 180, 270])},\n",
              " 107: {'a': (30, 50, 70),\n",
              "  'b': (1000, 5000, 7000, 9000),\n",
              "  'c': ['k', {'L': [11, 22], 'M': (77, 88)}]}}"
            ]
          },
          "metadata": {},
          "execution_count": 46
        }
      ]
    },
    {
      "cell_type": "code",
      "source": [
        "d[105]['apple'][3][1]"
      ],
      "metadata": {
        "colab": {
          "base_uri": "https://localhost:8080/"
        },
        "id": "maViSSaLigtf",
        "outputId": "4367c764-0fa6-4769-97ad-cad8a647e216"
      },
      "execution_count": 52,
      "outputs": [
        {
          "output_type": "execute_result",
          "data": {
            "text/plain": [
              "180"
            ]
          },
          "metadata": {},
          "execution_count": 52
        }
      ]
    },
    {
      "cell_type": "code",
      "source": [
        "d[107]['c'][1]['M'][1]"
      ],
      "metadata": {
        "colab": {
          "base_uri": "https://localhost:8080/"
        },
        "id": "BrIomMavjHlJ",
        "outputId": "eaa68d08-8e88-4277-d096-185d4c0eb8af"
      },
      "execution_count": 54,
      "outputs": [
        {
          "output_type": "execute_result",
          "data": {
            "text/plain": [
              "88"
            ]
          },
          "metadata": {},
          "execution_count": 54
        }
      ]
    },
    {
      "cell_type": "code",
      "source": [],
      "metadata": {
        "id": "_-OKVfigjn7r"
      },
      "execution_count": null,
      "outputs": []
    }
  ]
}