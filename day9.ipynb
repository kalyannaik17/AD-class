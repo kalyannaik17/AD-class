{
  "nbformat": 4,
  "nbformat_minor": 0,
  "metadata": {
    "colab": {
      "provenance": [],
      "authorship_tag": "ABX9TyNUPXH+8GnXpdxLdudhUdLB",
      "include_colab_link": true
    },
    "kernelspec": {
      "name": "python3",
      "display_name": "Python 3"
    },
    "language_info": {
      "name": "python"
    }
  },
  "cells": [
    {
      "cell_type": "markdown",
      "metadata": {
        "id": "view-in-github",
        "colab_type": "text"
      },
      "source": [
        "<a href=\"https://colab.research.google.com/github/kalyannaik17/AD-class/blob/main/day9.ipynb\" target=\"_parent\"><img src=\"https://colab.research.google.com/assets/colab-badge.svg\" alt=\"Open In Colab\"/></a>"
      ]
    },
    {
      "cell_type": "code",
      "execution_count": 3,
      "metadata": {
        "id": "Cn1qMnI6hfQC"
      },
      "outputs": [],
      "source": [
        "stud_2nd=[15,16,17,18,19,20,19,18,19,20,21]"
      ]
    },
    {
      "cell_type": "code",
      "source": [
        "import numpy as np\n",
        "np.random.randint(15,21,(300))"
      ],
      "metadata": {
        "colab": {
          "base_uri": "https://localhost:8080/"
        },
        "id": "gRVYT7Acjj3P",
        "outputId": "afa98c79-c845-40be-d0b3-73a2de196686"
      },
      "execution_count": 12,
      "outputs": [
        {
          "output_type": "execute_result",
          "data": {
            "text/plain": [
              "array([16, 15, 18, 19, 19, 16, 17, 18, 16, 15, 17, 19, 20, 16, 16, 16, 19,\n",
              "       15, 15, 18, 20, 15, 17, 19, 19, 15, 16, 17, 18, 15, 15, 16, 15, 15,\n",
              "       18, 17, 16, 19, 17, 18, 18, 15, 15, 20, 18, 18, 18, 20, 19, 16, 16,\n",
              "       17, 19, 20, 17, 18, 15, 18, 17, 19, 15, 19, 18, 16, 17, 16, 16, 17,\n",
              "       15, 18, 18, 15, 20, 20, 18, 16, 18, 15, 19, 15, 20, 16, 19, 20, 19,\n",
              "       20, 19, 20, 19, 15, 17, 18, 17, 20, 19, 19, 17, 18, 18, 15, 18, 18,\n",
              "       17, 15, 19, 16, 19, 16, 18, 19, 19, 15, 15, 16, 20, 19, 15, 18, 15,\n",
              "       16, 17, 15, 16, 19, 19, 16, 16, 19, 16, 17, 17, 19, 19, 20, 15, 18,\n",
              "       15, 19, 15, 15, 20, 19, 18, 15, 17, 16, 16, 15, 17, 15, 19, 17, 20,\n",
              "       20, 15, 20, 18, 16, 16, 18, 15, 19, 16, 19, 20, 20, 17, 20, 18, 19,\n",
              "       18, 15, 17, 16, 20, 18, 19, 19, 15, 18, 17, 17, 20, 20, 20, 19, 18,\n",
              "       19, 17, 15, 19, 20, 19, 20, 15, 15, 16, 17, 17, 19, 18, 16, 17, 15,\n",
              "       18, 18, 16, 17, 15, 16, 19, 18, 16, 18, 18, 16, 19, 17, 20, 19, 16,\n",
              "       20, 15, 19, 15, 18, 16, 17, 15, 15, 16, 19, 19, 19, 20, 19, 17, 16,\n",
              "       20, 19, 20, 17, 17, 19, 16, 19, 17, 16, 16, 17, 16, 20, 18, 18, 16,\n",
              "       19, 19, 20, 17, 16, 20, 18, 15, 16, 15, 20, 18, 20, 20, 18, 19, 15,\n",
              "       16, 20, 19, 17, 15, 19, 20, 18, 16, 20, 16, 19, 19, 20, 20, 17, 15,\n",
              "       15, 20, 19, 20, 16, 15, 18, 18, 17, 18, 15])"
            ]
          },
          "metadata": {},
          "execution_count": 12
        }
      ]
    },
    {
      "cell_type": "code",
      "source": [
        "h=np.random.randint(20,99,(6,7))\n",
        "h"
      ],
      "metadata": {
        "colab": {
          "base_uri": "https://localhost:8080/"
        },
        "id": "CEmxJWpEjvpm",
        "outputId": "3da80b29-3d41-4c16-def5-b38298d6e14a"
      },
      "execution_count": 15,
      "outputs": [
        {
          "output_type": "execute_result",
          "data": {
            "text/plain": [
              "array([[77, 90, 74, 40, 52, 28, 85],\n",
              "       [84, 21, 60, 88, 47, 63, 69],\n",
              "       [32, 98, 82, 67, 29, 86, 29],\n",
              "       [66, 24, 46, 71, 79, 89, 73],\n",
              "       [66, 64, 76, 23, 26, 80, 28],\n",
              "       [56, 37, 52, 45, 60, 59, 32]])"
            ]
          },
          "metadata": {},
          "execution_count": 15
        }
      ]
    },
    {
      "cell_type": "code",
      "source": [
        "import numpy as np"
      ],
      "metadata": {
        "id": "whQTMQ_QmAD7"
      },
      "execution_count": 16,
      "outputs": []
    },
    {
      "cell_type": "code",
      "source": [
        "h=np.random.randint(20,99,(6,7))\n",
        "h"
      ],
      "metadata": {
        "colab": {
          "base_uri": "https://localhost:8080/"
        },
        "id": "cy7CAj8ZmYV-",
        "outputId": "a02d1cf2-9203-4334-fb7f-71774f249d00"
      },
      "execution_count": 20,
      "outputs": [
        {
          "output_type": "execute_result",
          "data": {
            "text/plain": [
              "array([[68, 70, 95, 75, 71, 65, 58],\n",
              "       [93, 66, 46, 35, 67, 28, 36],\n",
              "       [55, 75, 75, 29, 61, 33, 43],\n",
              "       [32, 49, 70, 75, 86, 90, 90],\n",
              "       [37, 65, 23, 64, 77, 87, 45],\n",
              "       [72, 27, 72, 76, 79, 41, 49]])"
            ]
          },
          "metadata": {},
          "execution_count": 20
        }
      ]
    },
    {
      "cell_type": "code",
      "source": [
        "#np.random.seed(234)\n",
        "np.random.randint(20,99,(6,7))"
      ],
      "metadata": {
        "colab": {
          "base_uri": "https://localhost:8080/"
        },
        "id": "7r8OTKuAmfMB",
        "outputId": "b557781f-afc6-4875-9f28-772c685c312c"
      },
      "execution_count": 22,
      "outputs": [
        {
          "output_type": "execute_result",
          "data": {
            "text/plain": [
              "array([[20, 30, 93, 51, 36, 78, 28],\n",
              "       [22, 45, 91, 47, 24, 36, 44],\n",
              "       [30, 96, 71, 80, 42, 94, 28],\n",
              "       [67, 78, 57, 35, 85, 93, 98],\n",
              "       [84, 84, 93, 36, 93, 94, 96],\n",
              "       [49, 62, 32, 31, 21, 62, 25]])"
            ]
          },
          "metadata": {},
          "execution_count": 22
        }
      ]
    },
    {
      "cell_type": "code",
      "source": [
        "m=[5,20,10,6,8]\n",
        "m"
      ],
      "metadata": {
        "colab": {
          "base_uri": "https://localhost:8080/"
        },
        "id": "5o6oDeIlnCDX",
        "outputId": "e8681136-42bb-4ebb-afa4-a32723d4fda4"
      },
      "execution_count": 23,
      "outputs": [
        {
          "output_type": "execute_result",
          "data": {
            "text/plain": [
              "[5, 20, 10, 6, 8]"
            ]
          },
          "metadata": {},
          "execution_count": 23
        }
      ]
    },
    {
      "cell_type": "code",
      "source": [
        "h=[x**2 for x in m]\n",
        "h"
      ],
      "metadata": {
        "colab": {
          "base_uri": "https://localhost:8080/"
        },
        "id": "YRbyo7aBn_A3",
        "outputId": "cd74c3bf-f667-4ab2-fc64-9e5518ac40b9"
      },
      "execution_count": 37,
      "outputs": [
        {
          "output_type": "execute_result",
          "data": {
            "text/plain": [
              "[25, 400, 100, 36, 64]"
            ]
          },
          "metadata": {},
          "execution_count": 37
        }
      ]
    },
    {
      "cell_type": "code",
      "source": [
        "g=[m**2 for m in m]\n",
        "g"
      ],
      "metadata": {
        "colab": {
          "base_uri": "https://localhost:8080/"
        },
        "id": "9B__VenBoLj5",
        "outputId": "51a312f6-e3d9-47ed-c6ef-4eb57eaa669e"
      },
      "execution_count": 38,
      "outputs": [
        {
          "output_type": "execute_result",
          "data": {
            "text/plain": [
              "[25, 400, 100, 36, 64]"
            ]
          },
          "metadata": {},
          "execution_count": 38
        }
      ]
    },
    {
      "cell_type": "code",
      "source": [
        "for i in range(len(m)):\n",
        "    m[i]=m[i]**2\n",
        "m"
      ],
      "metadata": {
        "colab": {
          "base_uri": "https://localhost:8080/"
        },
        "id": "FrR1xrjDp2Ar",
        "outputId": "c758412e-aa53-40cc-a90f-431a5c99147e"
      },
      "execution_count": 39,
      "outputs": [
        {
          "output_type": "execute_result",
          "data": {
            "text/plain": [
              "[25, 400, 100, 36, 64]"
            ]
          },
          "metadata": {},
          "execution_count": 39
        }
      ]
    },
    {
      "cell_type": "code",
      "source": [
        "b=(5,20,10,6,8)\n",
        "b"
      ],
      "metadata": {
        "colab": {
          "base_uri": "https://localhost:8080/"
        },
        "id": "h4yvI4MwqwJo",
        "outputId": "cee7e995-2e46-4e6a-976e-d908c713b23e"
      },
      "execution_count": 45,
      "outputs": [
        {
          "output_type": "execute_result",
          "data": {
            "text/plain": [
              "(5, 20, 10, 6, 8)"
            ]
          },
          "metadata": {},
          "execution_count": 45
        }
      ]
    },
    {
      "cell_type": "code",
      "source": [
        "b = tuple(x + 5 for x in b)\n",
        "b"
      ],
      "metadata": {
        "colab": {
          "base_uri": "https://localhost:8080/"
        },
        "id": "Dk1epfXbrHL-",
        "outputId": "dfa61e3f-4441-41dd-d101-8c77d54bd1a4"
      },
      "execution_count": 49,
      "outputs": [
        {
          "output_type": "execute_result",
          "data": {
            "text/plain": [
              "(15, 30, 20, 16, 18)"
            ]
          },
          "metadata": {},
          "execution_count": 49
        }
      ]
    },
    {
      "cell_type": "code",
      "source": [
        "k=[50,25,85,75,35,45,95]\n",
        "k\n"
      ],
      "metadata": {
        "colab": {
          "base_uri": "https://localhost:8080/"
        },
        "id": "NMY6l6tirTQJ",
        "outputId": "e4cbe0b1-0708-4282-e34a-e7fb0f338ab0"
      },
      "execution_count": 50,
      "outputs": [
        {
          "output_type": "execute_result",
          "data": {
            "text/plain": [
              "[50, 25, 85, 75, 35, 45, 95]"
            ]
          },
          "metadata": {},
          "execution_count": 50
        }
      ]
    },
    {
      "cell_type": "code",
      "source": [
        "c = [x for x in k if x < 50]\n",
        "c"
      ],
      "metadata": {
        "colab": {
          "base_uri": "https://localhost:8080/"
        },
        "id": "4lZMpEoSr835",
        "outputId": "b75df30b-3292-44fb-fd50-c84cb763644a"
      },
      "execution_count": 55,
      "outputs": [
        {
          "output_type": "execute_result",
          "data": {
            "text/plain": [
              "[25, 35, 45]"
            ]
          },
          "metadata": {},
          "execution_count": 55
        }
      ]
    },
    {
      "cell_type": "code",
      "source": [
        "d=[]\n",
        "for i in k:\n",
        "    if i < 50:\n",
        "        d.append(i)\n",
        "d"
      ],
      "metadata": {
        "colab": {
          "base_uri": "https://localhost:8080/"
        },
        "id": "qkKtMbREtI_H",
        "outputId": "b937a697-06f8-4e0d-dab9-554ab3496756"
      },
      "execution_count": 56,
      "outputs": [
        {
          "output_type": "execute_result",
          "data": {
            "text/plain": [
              "[25, 35, 45]"
            ]
          },
          "metadata": {},
          "execution_count": 56
        }
      ]
    },
    {
      "cell_type": "code",
      "source": [
        "np.random.seed(5)\n",
        "arr=np.random.randint(20,90,10)"
      ],
      "metadata": {
        "id": "Y56nLhkCuciT"
      },
      "execution_count": 59,
      "outputs": []
    },
    {
      "cell_type": "code",
      "source": [
        "arr"
      ],
      "metadata": {
        "colab": {
          "base_uri": "https://localhost:8080/"
        },
        "id": "13uBbg0gvOnU",
        "outputId": "1a158de9-9309-4ff1-94dd-56f7f1e17551"
      },
      "execution_count": 60,
      "outputs": [
        {
          "output_type": "execute_result",
          "data": {
            "text/plain": [
              "array([81, 36, 28, 82, 47, 50, 27, 35, 73, 47])"
            ]
          },
          "metadata": {},
          "execution_count": 60
        }
      ]
    },
    {
      "cell_type": "code",
      "source": [
        "arr+5"
      ],
      "metadata": {
        "colab": {
          "base_uri": "https://localhost:8080/"
        },
        "id": "J14RPN_ovPOO",
        "outputId": "154d07d8-d228-4ae8-b44b-18bc325c4151"
      },
      "execution_count": 61,
      "outputs": [
        {
          "output_type": "execute_result",
          "data": {
            "text/plain": [
              "array([86, 41, 33, 87, 52, 55, 32, 40, 78, 52])"
            ]
          },
          "metadata": {},
          "execution_count": 61
        }
      ]
    },
    {
      "cell_type": "code",
      "source": [
        "arr**2"
      ],
      "metadata": {
        "colab": {
          "base_uri": "https://localhost:8080/"
        },
        "id": "KfJPQRQFvgrg",
        "outputId": "32e0a9f6-f01c-4ee4-c22a-c25fe4412d71"
      },
      "execution_count": 62,
      "outputs": [
        {
          "output_type": "execute_result",
          "data": {
            "text/plain": [
              "array([6561, 1296,  784, 6724, 2209, 2500,  729, 1225, 5329, 2209])"
            ]
          },
          "metadata": {},
          "execution_count": 62
        }
      ]
    },
    {
      "cell_type": "code",
      "source": [],
      "metadata": {
        "id": "HhB2xff1v3Lm"
      },
      "execution_count": 65,
      "outputs": []
    }
  ]
}